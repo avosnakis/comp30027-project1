{
 "cells": [
  {
   "cell_type": "markdown",
   "metadata": {},
   "source": [
    "# The University of Melbourne, School of Computing and Information Systems\n",
    "# COMP30027 Machine Learning, 2018 Semester 1\n",
    "-----\n",
    "## Project 1: What is labelled data worth to Naive Bayes?\n",
    "-----\n",
    "###### Student Name(s):\n",
    "###### Python version:"
   ]
  },
  {
   "cell_type": "markdown",
   "metadata": {},
   "source": [
    "This iPython notebook is a template which you may use for your Project 1 submission. (You are not required to use it; in particular, there is no need to use iPython if you do not like it.)\n",
    "\n",
    "Marking will be applied on the seven functions that are defined in this notebook, and to your responses to the questions at the end of this notebook.\n",
    "\n",
    "You may change the prototypes of these functions, and you may write other functions, according to your requirements. We would appreciate it if the required functions were prominent/easy to find. "
   ]
  },
  {
   "cell_type": "code",
   "execution_count": 1,
   "metadata": {},
   "outputs": [],
   "source": [
    "# Run this first to import all required files.\n",
    "import preprocess\n",
    "import train_supervised"
   ]
  },
  {
   "cell_type": "code",
   "execution_count": 2,
   "metadata": {},
   "outputs": [],
   "source": [
    "# This function should open a data file in csv, and transform it into a usable format \n",
    "data = preprocess.preprocess(\"../2018S1-proj1_data/breast-cancer.csv\")"
   ]
  },
  {
   "cell_type": "code",
   "execution_count": 3,
   "metadata": {},
   "outputs": [
    {
     "name": "stdout",
     "output_type": "stream",
     "text": [
      "[defaultdict(<function ValueMatrix.__new_dict.<locals>.<lambda> at 0x10b265400>, {'recurrence-events': defaultdict(<class 'int'>, {'40-49': 27, '50-59': 25, '30-39': 15, '60-69': 17, '70-79': 1}), 'no-recurrence-events': defaultdict(<class 'int'>, {'50-59': 71, '40-49': 63, '60-69': 40, '30-39': 21, '70-79': 5, '20-29': 1})}), defaultdict(<function ValueMatrix.__new_dict.<locals>.<lambda> at 0x10b265a60>, {'recurrence-events': defaultdict(<class 'int'>, {'premeno': 48, 'ge40': 35, 'lt40': 2}), 'no-recurrence-events': defaultdict(<class 'int'>, {'ge40': 94, 'premeno': 102, 'lt40': 5})}), defaultdict(<function ValueMatrix.__new_dict.<locals>.<lambda> at 0x10b265840>, {'recurrence-events': defaultdict(<class 'int'>, {'15-19': 7, '35-39': 7, '30-34': 25, '25-29': 18, '20-24': 16, '0-4': 1, '40-44': 6, '50-54': 3, '10-14': 1, '45-49': 1}), 'no-recurrence-events': defaultdict(<class 'int'>, {'15-19': 23, '35-39': 12, '25-29': 36, '40-44': 16, '10-14': 27, '0-4': 7, '30-34': 35, '20-24': 34, '45-49': 2, '50-54': 5, '5-9': 4})}), defaultdict(<function ValueMatrix.__new_dict.<locals>.<lambda> at 0x10b265950>, {'recurrence-events': defaultdict(<class 'int'>, {'0-2': 46, '3-5': 17, '6-8': 10, '15-17': 3, '9-11': 6, '24-26': 1, '12-14': 2}), 'no-recurrence-events': defaultdict(<class 'int'>, {'0-2': 167, '3-5': 19, '15-17': 3, '6-8': 7, '9-11': 4, '12-14': 1})}), defaultdict(<function ValueMatrix.__new_dict.<locals>.<lambda> at 0x10b2659d8>, {'recurrence-events': defaultdict(<class 'int'>, {'yes': 31, 'no': 51}), 'no-recurrence-events': defaultdict(<class 'int'>, {'no': 171, 'yes': 25})}), defaultdict(<function ValueMatrix.__new_dict.<locals>.<lambda> at 0x10b265ae8>, {'recurrence-events': defaultdict(<class 'int'>, {'3': 45, '2': 28, '1': 12}), 'no-recurrence-events': defaultdict(<class 'int'>, {'1': 59, '3': 40, '2': 102})}), defaultdict(<function ValueMatrix.__new_dict.<locals>.<lambda> at 0x10b265b70>, {'recurrence-events': defaultdict(<class 'int'>, {'right': 36, 'left': 49}), 'no-recurrence-events': defaultdict(<class 'int'>, {'right': 98, 'left': 103})}), defaultdict(<function ValueMatrix.__new_dict.<locals>.<lambda> at 0x10b265bf8>, {'recurrence-events': defaultdict(<class 'int'>, {'left_up': 26, 'left_low': 35, 'right_up': 13, 'central': 4, 'right_low': 6}), 'no-recurrence-events': defaultdict(<class 'int'>, {'central': 17, 'left_low': 75, 'left_up': 71, 'right_low': 18, 'right_up': 20})}), defaultdict(<function ValueMatrix.__new_dict.<locals>.<lambda> at 0x10b265c80>, {'recurrence-events': defaultdict(<class 'int'>, {'no': 54, 'yes': 31}), 'no-recurrence-events': defaultdict(<class 'int'>, {'no': 164, 'yes': 37})})]\n"
     ]
    }
   ],
   "source": [
    "# This function should build a supervised NB model\n",
    "matrix = train_supervised.train_supervised(data)\n",
    "matrix.print_matrix()"
   ]
  },
  {
   "cell_type": "code",
   "execution_count": null,
   "metadata": {},
   "outputs": [],
   "source": [
    "# This function should predict the class for a set of instances, based on a trained model \n",
    "def predict_supervised():\n",
    "    return"
   ]
  },
  {
   "cell_type": "code",
   "execution_count": null,
   "metadata": {},
   "outputs": [],
   "source": [
    "# This function should evaluate a set of predictions, in a supervised context \n",
    "def evaluate_supervised():\n",
    "    return"
   ]
  },
  {
   "cell_type": "code",
   "execution_count": null,
   "metadata": {},
   "outputs": [],
   "source": [
    "# This function should build an unsupervised NB model \n",
    "def train_unsupervised():\n",
    "    return"
   ]
  },
  {
   "cell_type": "code",
   "execution_count": null,
   "metadata": {},
   "outputs": [],
   "source": [
    "# This function should predict the class distribution for a set of instances, based on a trained model\n",
    "def predict_unsupervised():\n",
    "    return"
   ]
  },
  {
   "cell_type": "code",
   "execution_count": null,
   "metadata": {},
   "outputs": [],
   "source": [
    "# This function should evaluate a set of predictions, in an unsupervised manner\n",
    "def evaluate_unsupervised():\n",
    "    return"
   ]
  },
  {
   "cell_type": "markdown",
   "metadata": {},
   "source": [
    "Questions (you may respond in a cell or cells below):\n",
    "\n",
    "1. Since we’re starting off with random guesses, it might be surprising that the unsupervised NB works at all. Explain what characteristics of the data cause it to work pretty well (say, within 10% Accuracy of the supervised NB) most of the time; also, explain why it utterly fails sometimes.\n",
    "2. When evaluating supervised NB across the four different datasets, you will observe some variation in effectiveness (e.g. Accuracy). Explain what causes this variation. Describe and explain any particularly suprising results.\n",
    "3. Evaluating the model on the same data that we use to train the model is considered to be a major mistake in Machine Learning. Implement a hold–out (hint: check out numpy.shuffle()) or cross–validation evaluation strategy. How does your estimate of Accuracy change, compared to testing on the training data? Explain why. (The result might surprise you!)\n",
    "4. Implement one of the advanced smoothing regimes (add-k, Good-Turing). Do you notice any variation in the predictions made by either the supervised or unsupervised NB classifiers? Explain why, or why not.\n",
    "5. The lecture suggests that deterministically labelling the instances in the initialisation phase of the unsupervised NB classifier “doesn’t work very well”. Confirm this for yourself, and then demonstrate why.\n",
    "6. Rather than evaluating the unsupervised NB classifier by assigning a class deterministically, instead calculate how far away the probabilistic estimate of the true class is from 1 (where we would be certain of the correct class), and take the average over the instances. Does this performance estimate change, as we alter the number of iterations in the method? Explain why.\n",
    "7. Explore what causes the unsupervised NB classifier to converge: what proportion of instances change their prediction from the random assignment, to the first iteration? From the first to the second? What is the latest iteration where you observe a prediction change? Make some conjecture(s) as to what is occurring here.\n",
    "\n",
    "Don't forget that groups of 1 student should respond to question (1), and one other question. Groups of 2 students should respond to question (1), and three other questions. Your responses should be about 100-200 words each."
   ]
  },
  {
   "cell_type": "code",
   "execution_count": null,
   "metadata": {},
   "outputs": [],
   "source": []
  }
 ],
 "metadata": {
  "kernelspec": {
   "display_name": "Python 3",
   "language": "python",
   "name": "python3"
  },
  "language_info": {
   "codemirror_mode": {
    "name": "ipython",
    "version": 3
   },
   "file_extension": ".py",
   "mimetype": "text/x-python",
   "name": "python",
   "nbconvert_exporter": "python",
   "pygments_lexer": "ipython3",
   "version": "3.6.4"
  }
 },
 "nbformat": 4,
 "nbformat_minor": 2
}
