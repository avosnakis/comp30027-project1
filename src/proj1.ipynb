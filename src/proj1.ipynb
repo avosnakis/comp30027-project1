{
 "cells": [
  {
   "cell_type": "markdown",
   "metadata": {},
   "source": [
    "# The University of Melbourne, School of Computing and Information Systems\n",
    "# COMP30027 Machine Learning, 2018 Semester 1\n",
    "-----\n",
    "## Project 1: What is labelled data worth to Naive Bayes?\n",
    "-----\n",
    "###### Student Name(s):\n",
    "###### Python version:"
   ]
  },
  {
   "cell_type": "markdown",
   "metadata": {},
   "source": [
    "This iPython notebook is a template which you may use for your Project 1 submission. (You are not required to use it; in particular, there is no need to use iPython if you do not like it.)\n",
    "\n",
    "Marking will be applied on the seven functions that are defined in this notebook, and to your responses to the questions at the end of this notebook.\n",
    "\n",
    "You may change the prototypes of these functions, and you may write other functions, according to your requirements. We would appreciate it if the required functions were prominent/easy to find. "
   ]
  },
  {
   "cell_type": "code",
   "execution_count": 4,
   "metadata": {},
   "outputs": [],
   "source": [
    "# Run this first to import all required files.\n",
    "import preprocess as pp\n",
    "import train_supervised as ts\n",
    "\n",
    "from ClassifierData import ClassifierData"
   ]
  },
  {
   "cell_type": "code",
   "execution_count": 5,
   "metadata": {},
   "outputs": [],
   "source": [
    "# This function should open a data file in csv, and transform it into a usable format \n",
    "data: ClassifierData = pp.preprocess(\"../2018S1-proj1_data/breast-cancer.csv\")"
   ]
  },
  {
   "cell_type": "code",
   "execution_count": 6,
   "metadata": {},
   "outputs": [
    {
     "name": "stdout",
     "output_type": "stream",
     "text": [
      "[defaultdict(<function ValueMatrix.__new_dict.<locals>.<lambda> at 0x10994cae8>, {'recurrence-events': defaultdict(<class 'int'>, {'40-49': 3, '60-69': 3, '50-59': 7, '30-39': 1}), 'no-recurrence-events': defaultdict(<class 'int'>, {'30-39': 6, '40-49': 12, '50-59': 15, '60-69': 7, '70-79': 3})}), defaultdict(<function ValueMatrix.__new_dict.<locals>.<lambda> at 0x10994c840>, {'recurrence-events': defaultdict(<class 'int'>, {'premeno': 6, 'ge40': 8}), 'no-recurrence-events': defaultdict(<class 'int'>, {'premeno': 24, 'ge40': 18, 'lt40': 1})}), defaultdict(<function ValueMatrix.__new_dict.<locals>.<lambda> at 0x10994cc80>, {'recurrence-events': defaultdict(<class 'int'>, {'20-24': 3, '40-44': 2, '30-34': 4, '25-29': 3, '35-39': 2}), 'no-recurrence-events': defaultdict(<class 'int'>, {'20-24': 9, '10-14': 5, '15-19': 5, '25-29': 6, '40-44': 3, '30-34': 10, '0-4': 2, '35-39': 3})}), defaultdict(<function ValueMatrix.__new_dict.<locals>.<lambda> at 0x10994cb70>, {'recurrence-events': defaultdict(<class 'int'>, {'0-2': 8, '12-14': 1, '6-8': 2, '9-11': 1, '3-5': 1, '15-17': 1}), 'no-recurrence-events': defaultdict(<class 'int'>, {'0-2': 35, '3-5': 4, '9-11': 1, '6-8': 3})}), defaultdict(<function ValueMatrix.__new_dict.<locals>.<lambda> at 0x10994cbf8>, {'recurrence-events': defaultdict(<class 'int'>, {'no': 8, 'yes': 6}), 'no-recurrence-events': defaultdict(<class 'int'>, {'no': 36, 'yes': 6})}), defaultdict(<function ValueMatrix.__new_dict.<locals>.<lambda> at 0x10994cd08>, {'recurrence-events': defaultdict(<class 'int'>, {'2': 5, '3': 9}), 'no-recurrence-events': defaultdict(<class 'int'>, {'2': 25, '1': 10, '3': 8})}), defaultdict(<function ValueMatrix.__new_dict.<locals>.<lambda> at 0x10994cd90>, {'recurrence-events': defaultdict(<class 'int'>, {'left': 9, 'right': 5}), 'no-recurrence-events': defaultdict(<class 'int'>, {'left': 26, 'right': 17})}), defaultdict(<function ValueMatrix.__new_dict.<locals>.<lambda> at 0x10994ce18>, {'recurrence-events': defaultdict(<class 'int'>, {'left_low': 6, 'left_up': 2, 'right_up': 3, 'right_low': 2}), 'no-recurrence-events': defaultdict(<class 'int'>, {'right_low': 4, 'left_low': 20, 'left_up': 11, 'central': 3, 'right_up': 5})}), defaultdict(<function ValueMatrix.__new_dict.<locals>.<lambda> at 0x10994cea0>, {'recurrence-events': defaultdict(<class 'int'>, {'no': 6, 'yes': 8}), 'no-recurrence-events': defaultdict(<class 'int'>, {'no': 33, 'yes': 10})})]\n"
     ]
    }
   ],
   "source": [
    "# This function should build a supervised NB model\n",
    "matrix = ts.train_supervised(data)\n",
    "matrix.print_matrix()"
   ]
  },
  {
   "cell_type": "code",
   "execution_count": null,
   "metadata": {},
   "outputs": [],
   "source": [
    "# This function should predict the class for a set of instances, based on a trained model \n",
    "def predict_supervised():\n",
    "    return"
   ]
  },
  {
   "cell_type": "code",
   "execution_count": null,
   "metadata": {},
   "outputs": [],
   "source": [
    "# This function should evaluate a set of predictions, in a supervised context \n",
    "def evaluate_supervised():\n",
    "    return"
   ]
  },
  {
   "cell_type": "code",
   "execution_count": null,
   "metadata": {},
   "outputs": [],
   "source": [
    "# This function should build an unsupervised NB model \n",
    "def train_unsupervised():\n",
    "    return"
   ]
  },
  {
   "cell_type": "code",
   "execution_count": null,
   "metadata": {},
   "outputs": [],
   "source": [
    "# This function should predict the class distribution for a set of instances, based on a trained model\n",
    "def predict_unsupervised():\n",
    "    return"
   ]
  },
  {
   "cell_type": "code",
   "execution_count": null,
   "metadata": {},
   "outputs": [],
   "source": [
    "# This function should evaluate a set of predictions, in an unsupervised manner\n",
    "def evaluate_unsupervised():\n",
    "    return"
   ]
  },
  {
   "cell_type": "markdown",
   "metadata": {},
   "source": [
    "Questions (you may respond in a cell or cells below):\n",
    "\n",
    "1. Since we’re starting off with random guesses, it might be surprising that the unsupervised NB works at all. Explain what characteristics of the data cause it to work pretty well (say, within 10% Accuracy of the supervised NB) most of the time; also, explain why it utterly fails sometimes.\n",
    "2. When evaluating supervised NB across the four different datasets, you will observe some variation in effectiveness (e.g. Accuracy). Explain what causes this variation. Describe and explain any particularly suprising results.\n",
    "3. Evaluating the model on the same data that we use to train the model is considered to be a major mistake in Machine Learning. Implement a hold–out (hint: check out numpy.shuffle()) or cross–validation evaluation strategy. How does your estimate of Accuracy change, compared to testing on the training data? Explain why. (The result might surprise you!)\n",
    "4. Implement one of the advanced smoothing regimes (add-k, Good-Turing). Do you notice any variation in the predictions made by either the supervised or unsupervised NB classifiers? Explain why, or why not.\n",
    "5. The lecture suggests that deterministically labelling the instances in the initialisation phase of the unsupervised NB classifier “doesn’t work very well”. Confirm this for yourself, and then demonstrate why.\n",
    "6. Rather than evaluating the unsupervised NB classifier by assigning a class deterministically, instead calculate how far away the probabilistic estimate of the true class is from 1 (where we would be certain of the correct class), and take the average over the instances. Does this performance estimate change, as we alter the number of iterations in the method? Explain why.\n",
    "7. Explore what causes the unsupervised NB classifier to converge: what proportion of instances change their prediction from the random assignment, to the first iteration? From the first to the second? What is the latest iteration where you observe a prediction change? Make some conjecture(s) as to what is occurring here.\n",
    "\n",
    "Don't forget that groups of 1 student should respond to question (1), and one other question. Groups of 2 students should respond to question (1), and three other questions. Your responses should be about 100-200 words each."
   ]
  },
  {
   "cell_type": "code",
   "execution_count": null,
   "metadata": {},
   "outputs": [],
   "source": []
  }
 ],
 "metadata": {
  "kernelspec": {
   "display_name": "Python 3",
   "language": "python",
   "name": "python3"
  },
  "language_info": {
   "codemirror_mode": {
    "name": "ipython",
    "version": 3
   },
   "file_extension": ".py",
   "mimetype": "text/x-python",
   "name": "python",
   "nbconvert_exporter": "python",
   "pygments_lexer": "ipython3",
   "version": "3.6.4"
  }
 },
 "nbformat": 4,
 "nbformat_minor": 2
}
